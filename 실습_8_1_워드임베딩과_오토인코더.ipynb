{
  "cells": [
    {
      "cell_type": "markdown",
      "metadata": {
        "id": "view-in-github",
        "colab_type": "text"
      },
      "source": [
        "<a href=\"https://colab.research.google.com/github/shriver42/OUTTA/blob/main/%EC%8B%A4%EC%8A%B5_8_1_%EC%9B%8C%EB%93%9C%EC%9E%84%EB%B2%A0%EB%94%A9%EA%B3%BC_%EC%98%A4%ED%86%A0%EC%9D%B8%EC%BD%94%EB%8D%94.ipynb\" target=\"_parent\"><img src=\"https://colab.research.google.com/assets/colab-badge.svg\" alt=\"Open In Colab\"/></a>"
      ]
    },
    {
      "cell_type": "markdown",
      "id": "7914a98a",
      "metadata": {
        "id": "7914a98a"
      },
      "source": [
        "# 실습 8 워드 임베딩\n",
        "\n",
        "\n",
        "본 실습에서 사용하는 데이터셋은 오픈 소스라 다음 사이트에서 참고할 수 있음을 밝힌다.\n",
        "\n",
        "GloVe: Global Vectors for Word Representation (stanford.edu)"
      ]
    },
    {
      "cell_type": "markdown",
      "source": [
        "실습 데이터셋을 이용하기 위해 Google 드라이브를 mount하여 Colab에서 Google 드라이브에 저장된 파일에 접근하게 한다."
      ],
      "metadata": {
        "id": "KfTiojfpA9di"
      },
      "id": "KfTiojfpA9di"
    },
    {
      "cell_type": "code",
      "source": [
        "from google.colab import drive\n",
        "drive.mount('/content/drive')"
      ],
      "metadata": {
        "id": "oJOcTiKzonCE"
      },
      "id": "oJOcTiKzonCE",
      "execution_count": null,
      "outputs": []
    },
    {
      "cell_type": "markdown",
      "id": "f2c4419b",
      "metadata": {
        "id": "f2c4419b"
      },
      "source": [
        "### 0. 인트로\n",
        "\n",
        "이번 실습에서는 지금까지 배운 임베딩 개념을 활용해보는 시간을 가질 것이다. 다만 주어진 GloVe라는 데이터셋은 이미 모두 임베딩이 되어있는 데이터 집합이다. 이번 실습에서 우리가 직접 임베딩을 하는 것은 아니고 임베딩이 되어있는 상태에서 유사성을 가진 단어들이 어떤 클러스터링(Clustering; 집합, 뭉치기)을 이루면서 존재하고 있는지 파악해보는 시간을 가질 것이다.\n",
        "\n",
        "라이브러리에 해당하는 gensim을 아래 코드를 실행하여 설치한다."
      ]
    },
    {
      "cell_type": "code",
      "execution_count": 1,
      "id": "4541659d",
      "metadata": {
        "id": "4541659d",
        "colab": {
          "base_uri": "https://localhost:8080/"
        },
        "outputId": "47ea7841-c9ea-4eec-bec0-96e216dcb533"
      },
      "outputs": [
        {
          "output_type": "stream",
          "name": "stdout",
          "text": [
            "Requirement already satisfied: gensim in /usr/local/lib/python3.10/dist-packages (4.3.2)\n",
            "Requirement already satisfied: numpy>=1.18.5 in /usr/local/lib/python3.10/dist-packages (from gensim) (1.25.2)\n",
            "Requirement already satisfied: scipy>=1.7.0 in /usr/local/lib/python3.10/dist-packages (from gensim) (1.11.4)\n",
            "Requirement already satisfied: smart-open>=1.8.1 in /usr/local/lib/python3.10/dist-packages (from gensim) (7.0.4)\n",
            "Requirement already satisfied: wrapt in /usr/local/lib/python3.10/dist-packages (from smart-open>=1.8.1->gensim) (1.14.1)\n"
          ]
        }
      ],
      "source": [
        "!pip install gensim"
      ]
    },
    {
      "cell_type": "markdown",
      "id": "d495117f",
      "metadata": {
        "id": "d495117f"
      },
      "source": [
        "\n",
        "### 1. GloVe 임베딩 불러오기\n",
        "\n",
        "GloVe는 이미 알고리즘을 통해 학습된 워드 임베딩 데이터다. 실습은 이 GloVe라는 데이터셋을 바탕으로 행해질 것이고 50차원에 임베딩된 버전을 사용할 것이다.\n",
        "\n",
        "먼저,‘glove.6B.50d.txt.w2v' 파일의 경로를 설정한다. 반드시 압축 해제해야 하는 것을 잊지 말고 아래 코드에 나온 path에 입력된 경로 양식을 참고하길 바란다. (참고로 이 파일들은 50차원 공간에서 임베딩된 단어 벡터가 포함되어 있다. 여기서 단어 벡터란 개념이 잘 와닿지 않는다면 워드 임베딩 이론 부분에서 배운 내용을 떠올려보자. ‘happy’라는 단어가 있었다면 이를 2차원 공간에 임베딩하여 [0.02, -0.01]과 같은 벡터로 나타낼 수 있었다.)"
      ]
    },
    {
      "cell_type": "code",
      "execution_count": 3,
      "id": "dfc717fc",
      "metadata": {
        "id": "dfc717fc"
      },
      "outputs": [],
      "source": [
        "from collections import defaultdict\n",
        "import numpy as np\n",
        "import time\n",
        "import gensim\n",
        "from gensim.models.keyedvectors import KeyedVectors\n",
        "from sklearn.decomposition import TruncatedSVD\n",
        "import matplotlib.pyplot as plt\n",
        "\n",
        "# GloVe 파일 경로\n",
        "path = \"/content/glove.6B.50d.txt.w2v\"  # 같은 경로\n",
        "\n",
        "# Glove 파일을 Gensim을 통해 dictionary로 만들어줌(key, value로 들어감)\n",
        "t0 = time.time()\n",
        "glove = KeyedVectors.load_word2vec_format(path, binary=False)"
      ]
    },
    {
      "cell_type": "markdown",
      "id": "fa7bd09e",
      "metadata": {
        "id": "fa7bd09e"
      },
      "source": [
        "위 코드에서 ‘glove’에 주목해보자. GloVe를 정의한 우변을 보면 ‘path’가 명시되어 있는데 path는 우리가 데이터셋을 저장한 경로로 설정해두었으므로 glove는 임베딩된 데이터를 나타낼 것이다. 다만 우리가 gensim에서 사용하는 KeyedVectors란 함수로 불러왔기 때문에 단어가 key로, 단어 벡터가 value로 존재하는 형태로 나타난다. 따라서 우리가 glove[“apple”]이란 코드를 실행시킨다면 apple에 대응하는 임베딩 벡터가 출력된다. 그럼 다음 사항을 생각해보자.\n"
      ]
    },
    {
      "cell_type": "code",
      "execution_count": 4,
      "id": "d870d026",
      "metadata": {
        "id": "d870d026",
        "colab": {
          "base_uri": "https://localhost:8080/"
        },
        "outputId": "5cee8bb0-c210-460e-a2c0-ccd27368a4f7"
      },
      "outputs": [
        {
          "output_type": "stream",
          "name": "stdout",
          "text": [
            "[-0.80901   0.2091    0.85659   0.18123   1.0849   -0.075861 -0.82726\n",
            " -0.96318  -0.40827   0.45425   0.4642   -0.58634  -0.014735 -1.0625\n",
            "  0.39668   0.19313  -1.2619   -0.35233  -1.019    -0.63384   1.2078\n",
            "  0.18914   0.055527 -1.117    -0.7025   -0.58161   0.064159 -0.030037\n",
            " -0.1067    0.44689   2.8481    0.12098   1.2057    0.93686   0.48936\n",
            " -1.5921   -0.87753  -0.32164   1.0237   -0.70042  -0.54317   0.1281\n",
            "  0.54337  -0.86638   0.065663  0.017083 -0.12465  -0.61839   0.14818\n",
            " -0.032635]\n",
            "Type : <class 'numpy.ndarray'>\n",
            "Shape : (50,)\n"
          ]
        }
      ],
      "source": [
        "# Numpy array나 tuple처럼 단어 벡터의 유형(type)과 그 shape을 얻어보는 방법을 생각해보자.\n",
        "# 단어는 glove에 포함되어있는 “rose”로\n",
        "# shape은 말 그대로 단어가 어떤 shape을 이루며 임베딩 되어 있는지 알려준다.\n",
        "# 예를 들어, 5 X 6 행렬의 경우 (5, 6)의 shape 값을 갖는다.\n",
        "\n",
        "# 여기에 코드 작성\n",
        "v = glove['rose']\n",
        "\n",
        "print(v)\n",
        "print(f\"Type : {type(v)}\")\n",
        "print(f\"Shape : {v.shape}\")"
      ]
    },
    {
      "cell_type": "markdown",
      "id": "eec5ea5e",
      "metadata": {
        "id": "eec5ea5e"
      },
      "source": [
        "\n",
        "### 2. 유사한 단어 찾아보기\n",
        "\n",
        "임베딩이 되어 있는 단어들은 임베딩 된 공간에서 유사성을 갖는 단어들끼리 클러스터링을 이루는 것을 알고 있다. 그렇기에 우리는 임베딩 데이터를 기반으로, most_similar 함수를 이용해서 특정 단어와 유사한 단어들을 추출해낼 수 있다. (물론 출력으로 나온 유사한 단어도 당연히 데이터셋 안에 있는 단어이다.) 이번 실습에서는 glove.most_similar(\"word\")라는 코드를 사용하면 된다. 그 결과를 출력해보면 우리가 입력해 준 “word”와 유사어들과 함께 그에 대응하는 단어 벡터도 함께 출력되는 것을 확인할 수 있을 것이다.\n",
        "\n",
        "이 함수는 단어 벡터 간 코사인 유사성(cosine similarity)을 기반으로 유사한 단어를 찾는다. 여기서 코사인 유사성이란 각 단어가 갖는 단어 벡터끼리 이루는 각도에 대응하는 코사인값을 이용해 단어 간 유사도를 평가하는 방식이다. 두 단어 벡터의 방향이 유사할수록 비슷한 단어이고, 이므로 코사인 값이 1에 가까울수록 유사한 단어라고 생각할 수 있다."
      ]
    },
    {
      "cell_type": "code",
      "execution_count": 5,
      "id": "21de190f",
      "metadata": {
        "id": "21de190f",
        "colab": {
          "base_uri": "https://localhost:8080/"
        },
        "outputId": "ad857743-8f36-4eab-a3ae-26d5374b3623"
      },
      "outputs": [
        {
          "output_type": "stream",
          "name": "stdout",
          "text": [
            "[('hilarious', 0.8796553611755371), ('amusing', 0.8676608204841614), ('silly', 0.8449272513389587), ('joke', 0.8393374681472778), ('fun', 0.8367612957954407), ('weird', 0.8209654092788696), ('pretty', 0.8184577822685242), ('scary', 0.8148325085639954), ('boring', 0.8118149042129517), ('incredibly', 0.7985020875930786)]\n",
            "[('scissors', 0.7837907671928406), ('sharpener', 0.7752447128295898), ('pencils', 0.7656055688858032), ('crayon', 0.738135039806366), ('sharpeners', 0.7206111550331116), ('engraving', 0.7164567708969116), ('paint', 0.7089575529098511), ('lettering', 0.7048622369766235), ('eraser', 0.7036406993865967), ('lace', 0.6947881579399109)]\n"
          ]
        }
      ],
      "source": [
        "# 코사인 유사성에 따라 어떤 단어가 주어졌을 때 그 단어와 가장 유사한 단어를 모델이 골라내는 것이 다음 코드로 가능하다.\n",
        "# Hint: glove.most_similar(\"word\")\n",
        "# ‘funny’와 ‘pencil’이란 단어에 대해 이 작업을 시행해보자.\n",
        "\n",
        "# 여기에 코드 작성\n",
        "print(glove.most_similar(\"funny\"))\n",
        "print(glove.most_similar(\"pencil\"))"
      ]
    },
    {
      "cell_type": "markdown",
      "id": "defd5c12",
      "metadata": {
        "id": "defd5c12"
      },
      "source": [
        "\n",
        "\n",
        "\n",
        "### 3. 고차원의 데이터를 차원 축소를 통해 시각화하기\n",
        "우리가 사용하고 있는 glove에는 50차원과 같이 매우 높은 차원에서의 임베딩이 존재하고 있어서 단어들이 서로 어떤 위치 관계를 이루며 50차원의 공간에 존재하는지 알기 쉽지 않다. 이를 가시적으로 한 번에 보기 위해선 50차원을 2차원이나 3차원처럼 좀 더 작은 차원으로 축소할 필요가 있다. 이를 위해 Scikit-learn의 TruncatedSVD을 이용하여 차원을 줄일 것이다. 본격적으로 실습을 수행하기 전에 중요하게 사용될 코드를 짚고 넘어가자.\n",
        "\n",
        "첫째로, 차원 축소 모델을 svd = TruncatedSVD(n_components=2) 코드로 생성한다.\n",
        "둘째로, 새로 생성한 모델 svd를 ‘X_train’이란 이름을 갖는 데이터로 학습시켜주기 위해 fit() 함수를 이용한다.\n",
        "\n",
        "=> svd.fit(X_train)\n",
        "\n",
        "마지막으로, 50차원의 행렬 혹은 벡터 X에 대해 그 차원을 2차원으로 축소하려면 함수 transform()을 사용하면 된다.\n",
        "\n",
        "=> X_reduced = svd.transfrom(X)\n",
        "\n",
        "모든 임베딩 데이터에 대하여 차원 축소를 해야 하다 보니 방대한 데이터를 하나로 옮겨놓는 작업이 필요하다. 이를 위해 워드 임베딩을 하나의 행렬로 옮겨 합쳐놓는 작업을 거칠 것이다. 아래의 코드에서는 행렬 shape을 지정하여 영행렬 모든 요소가 0인 행렬\n",
        "을 먼저 생성한 후 그곳에 glove[word], 즉 ‘word’에 대응하는 임베딩 벡터를 각 행에 추가하여 행렬을 형성하고 있다.\n"
      ]
    },
    {
      "cell_type": "code",
      "source": [
        "len(glove.key_to_index)"
      ],
      "metadata": {
        "id": "EQw1LJQoZjd_",
        "colab": {
          "base_uri": "https://localhost:8080/"
        },
        "outputId": "2c3cdcc1-6cb2-4ab4-8e97-d1001b295020"
      },
      "id": "EQw1LJQoZjd_",
      "execution_count": 6,
      "outputs": [
        {
          "output_type": "execute_result",
          "data": {
            "text/plain": [
              "400000"
            ]
          },
          "metadata": {},
          "execution_count": 6
        }
      ]
    },
    {
      "cell_type": "code",
      "source": [
        "d = glove.vector_size\n",
        "d"
      ],
      "metadata": {
        "id": "pptb7THbaEen",
        "colab": {
          "base_uri": "https://localhost:8080/"
        },
        "outputId": "2135942a-8f2f-43dd-973b-290fa9bba462"
      },
      "id": "pptb7THbaEen",
      "execution_count": 7,
      "outputs": [
        {
          "output_type": "execute_result",
          "data": {
            "text/plain": [
              "50"
            ]
          },
          "metadata": {},
          "execution_count": 7
        }
      ]
    },
    {
      "cell_type": "code",
      "execution_count": 10,
      "id": "3a5e167a",
      "metadata": {
        "id": "3a5e167a",
        "colab": {
          "base_uri": "https://localhost:8080/"
        },
        "outputId": "9b3d6c0a-d300-4bc6-ab57-4912e3acedcb"
      },
      "outputs": [
        {
          "output_type": "execute_result",
          "data": {
            "text/plain": [
              "(400000, 50)"
            ]
          },
          "metadata": {},
          "execution_count": 10
        }
      ],
      "source": [
        "n = len(glove.key_to_index)   #백터들의 인덱스 수\n",
        "d = glove.vector_size         #임배딩 벡터의 사이즈\n",
        "X_glove = np.zeros((n, d))\n",
        "for i, word in enumerate(glove.key_to_index.keys()):\n",
        "    X_glove[i,:] = glove[word]\n",
        "X_glove.shape"
      ]
    },
    {
      "cell_type": "code",
      "source": [
        "# enumerate 예시\n",
        "ex_list = ['a', 'b' ,'c']\n",
        "for i, text in enumerate(ex_list):    #enumereate: index, value를 같이 꺼내오는 방법\n",
        "    print(i)\n",
        "    print(text)"
      ],
      "metadata": {
        "id": "g-ZFcwbsagml",
        "colab": {
          "base_uri": "https://localhost:8080/"
        },
        "outputId": "a7190848-5da5-4994-f213-db9cf15c06b9"
      },
      "id": "g-ZFcwbsagml",
      "execution_count": 11,
      "outputs": [
        {
          "output_type": "stream",
          "name": "stdout",
          "text": [
            "0\n",
            "a\n",
            "1\n",
            "b\n",
            "2\n",
            "c\n"
          ]
        }
      ]
    },
    {
      "cell_type": "markdown",
      "id": "d9ded367",
      "metadata": {
        "id": "d9ded367"
      },
      "source": [
        "이 코드로 우린 X_glove에 단어들이 존재하는 행렬을 생성하는 작업까지 마무리했다. 위에서 배운 코드를 토대로 svd 모델을 생성한 후, X_glove란 행렬로 svd 모델을 학습시키는 코드 작성을 마무리해보자."
      ]
    },
    {
      "cell_type": "code",
      "execution_count": 13,
      "id": "8466c4da",
      "metadata": {
        "id": "8466c4da",
        "colab": {
          "base_uri": "https://localhost:8080/",
          "height": 74
        },
        "outputId": "4308e108-7caf-4fe7-b395-1549dd2b7ac1"
      },
      "outputs": [
        {
          "output_type": "execute_result",
          "data": {
            "text/plain": [
              "TruncatedSVD()"
            ],
            "text/html": [
              "<style>#sk-container-id-2 {color: black;background-color: white;}#sk-container-id-2 pre{padding: 0;}#sk-container-id-2 div.sk-toggleable {background-color: white;}#sk-container-id-2 label.sk-toggleable__label {cursor: pointer;display: block;width: 100%;margin-bottom: 0;padding: 0.3em;box-sizing: border-box;text-align: center;}#sk-container-id-2 label.sk-toggleable__label-arrow:before {content: \"▸\";float: left;margin-right: 0.25em;color: #696969;}#sk-container-id-2 label.sk-toggleable__label-arrow:hover:before {color: black;}#sk-container-id-2 div.sk-estimator:hover label.sk-toggleable__label-arrow:before {color: black;}#sk-container-id-2 div.sk-toggleable__content {max-height: 0;max-width: 0;overflow: hidden;text-align: left;background-color: #f0f8ff;}#sk-container-id-2 div.sk-toggleable__content pre {margin: 0.2em;color: black;border-radius: 0.25em;background-color: #f0f8ff;}#sk-container-id-2 input.sk-toggleable__control:checked~div.sk-toggleable__content {max-height: 200px;max-width: 100%;overflow: auto;}#sk-container-id-2 input.sk-toggleable__control:checked~label.sk-toggleable__label-arrow:before {content: \"▾\";}#sk-container-id-2 div.sk-estimator input.sk-toggleable__control:checked~label.sk-toggleable__label {background-color: #d4ebff;}#sk-container-id-2 div.sk-label input.sk-toggleable__control:checked~label.sk-toggleable__label {background-color: #d4ebff;}#sk-container-id-2 input.sk-hidden--visually {border: 0;clip: rect(1px 1px 1px 1px);clip: rect(1px, 1px, 1px, 1px);height: 1px;margin: -1px;overflow: hidden;padding: 0;position: absolute;width: 1px;}#sk-container-id-2 div.sk-estimator {font-family: monospace;background-color: #f0f8ff;border: 1px dotted black;border-radius: 0.25em;box-sizing: border-box;margin-bottom: 0.5em;}#sk-container-id-2 div.sk-estimator:hover {background-color: #d4ebff;}#sk-container-id-2 div.sk-parallel-item::after {content: \"\";width: 100%;border-bottom: 1px solid gray;flex-grow: 1;}#sk-container-id-2 div.sk-label:hover label.sk-toggleable__label {background-color: #d4ebff;}#sk-container-id-2 div.sk-serial::before {content: \"\";position: absolute;border-left: 1px solid gray;box-sizing: border-box;top: 0;bottom: 0;left: 50%;z-index: 0;}#sk-container-id-2 div.sk-serial {display: flex;flex-direction: column;align-items: center;background-color: white;padding-right: 0.2em;padding-left: 0.2em;position: relative;}#sk-container-id-2 div.sk-item {position: relative;z-index: 1;}#sk-container-id-2 div.sk-parallel {display: flex;align-items: stretch;justify-content: center;background-color: white;position: relative;}#sk-container-id-2 div.sk-item::before, #sk-container-id-2 div.sk-parallel-item::before {content: \"\";position: absolute;border-left: 1px solid gray;box-sizing: border-box;top: 0;bottom: 0;left: 50%;z-index: -1;}#sk-container-id-2 div.sk-parallel-item {display: flex;flex-direction: column;z-index: 1;position: relative;background-color: white;}#sk-container-id-2 div.sk-parallel-item:first-child::after {align-self: flex-end;width: 50%;}#sk-container-id-2 div.sk-parallel-item:last-child::after {align-self: flex-start;width: 50%;}#sk-container-id-2 div.sk-parallel-item:only-child::after {width: 0;}#sk-container-id-2 div.sk-dashed-wrapped {border: 1px dashed gray;margin: 0 0.4em 0.5em 0.4em;box-sizing: border-box;padding-bottom: 0.4em;background-color: white;}#sk-container-id-2 div.sk-label label {font-family: monospace;font-weight: bold;display: inline-block;line-height: 1.2em;}#sk-container-id-2 div.sk-label-container {text-align: center;}#sk-container-id-2 div.sk-container {/* jupyter's `normalize.less` sets `[hidden] { display: none; }` but bootstrap.min.css set `[hidden] { display: none !important; }` so we also need the `!important` here to be able to override the default hidden behavior on the sphinx rendered scikit-learn.org. See: https://github.com/scikit-learn/scikit-learn/issues/21755 */display: inline-block !important;position: relative;}#sk-container-id-2 div.sk-text-repr-fallback {display: none;}</style><div id=\"sk-container-id-2\" class=\"sk-top-container\"><div class=\"sk-text-repr-fallback\"><pre>TruncatedSVD()</pre><b>In a Jupyter environment, please rerun this cell to show the HTML representation or trust the notebook. <br />On GitHub, the HTML representation is unable to render, please try loading this page with nbviewer.org.</b></div><div class=\"sk-container\" hidden><div class=\"sk-item\"><div class=\"sk-estimator sk-toggleable\"><input class=\"sk-toggleable__control sk-hidden--visually\" id=\"sk-estimator-id-2\" type=\"checkbox\" checked><label for=\"sk-estimator-id-2\" class=\"sk-toggleable__label sk-toggleable__label-arrow\">TruncatedSVD</label><div class=\"sk-toggleable__content\"><pre>TruncatedSVD()</pre></div></div></div></div></div>"
            ]
          },
          "metadata": {},
          "execution_count": 13
        }
      ],
      "source": [
        "#차원 축소 : 2차원으로 압축을 해줄 것이다\n",
        "# 여기에 코드 작성\n",
        "svd = TruncatedSVD(n_components=2)\n",
        "svd.fit(X_glove)"
      ]
    },
    {
      "cell_type": "markdown",
      "id": "944bf7fe",
      "metadata": {
        "id": "944bf7fe"
      },
      "source": [
        "\n",
        "### 4. 시각화를 위한 함수 작성\n",
        "\n",
        "이제 2차원 임베딩 공간에 단어 쌍들이 존재하므로 이 쌍들이 어떤 분포를 이루고 있는지, 한마디로 어떻게 ‘mapping(매핑, 대응)’ 되어있는지를 시각화해보는 것이 이번 실습의 마지막 단계이다. 지금부터는 주어진 코드를 이해하는 것을 목표로 하자. 아래의 plot_pairs란 함수는 단어를 시각적으로 표현해주고자 하는 코드이다. 주석을 따라가다보면 우리가 방금 배웠던 행렬 생성과 더불어 데이터를 시각화하는 여러 방식을 공부할 수 있을 것이다."
      ]
    },
    {
      "cell_type": "code",
      "execution_count": 14,
      "id": "a0ee7aea",
      "metadata": {
        "id": "a0ee7aea"
      },
      "outputs": [],
      "source": [
        "def plot_pairs(words, word_vectors, svd):\n",
        "    \"\"\" 2차원에서 단어쌍을 도식화.\n",
        "\n",
        "    매개변수(Parameters)\n",
        "    ----------\n",
        "    words: list[str]\n",
        "        짝수 개의 단어들이 들어있는 목록으로 공통적인 관계를 바탕으로 단어들이 쌍을 이루고 있다.\n",
        "        (예를 들면 직업과 그 직업이 사용하는 도구와 같은 관계)\n",
        "         e.g, [\"목수\", \"도끼\", \"배관공\", “렌치\"].\n",
        "\n",
        "    word_vectors: KeyedVectors의 인스턴스\n",
        "        gensim의 KeyedVectors wrapper에 있는 워드 임베딩 모델\n",
        "\n",
        "    svd: TruncatedSVD의 인스턴스\n",
        "        이미 데이터로 학습된 truncated SVD의 인스턴스 (n_components=2로).\n",
        "    \"\"\"\n",
        "\n",
        "    # 2차원에 단어를 매핑하기\n",
        "    d = word_vectors.vector_size\n",
        "    words_temp = np.zeros((len(words), d))\n",
        "    for i, word in enumerate(words):\n",
        "        words_temp[i,:] = word_vectors[word]\n",
        "    words_2D = svd.transform(words_temp)\n",
        "    # (len(words), 2)\n",
        "\n",
        "    # 점 나타내기\n",
        "    plt.scatter(words_2D[:,0], words_2D[:,1])\n",
        "\n",
        "    # 라벨 나타내기\n",
        "    for i, txt in enumerate(words):\n",
        "        plt.annotate(txt, (words_2D[i, 0], words_2D[i, 1]))\n",
        "\n",
        "    # 선 나타내기\n",
        "    for i in range(int(len(words)/2)):\n",
        "        plt.plot(words_2D[i*2:i*2+2,0], words_2D[i*2:i*2+2,1], linestyle='dashed', color='k')"
      ]
    },
    {
      "cell_type": "markdown",
      "id": "a18a3265",
      "metadata": {
        "id": "a18a3265"
      },
      "source": [
        "\n",
        "### 5. plot_pairs 함수로 임베딩 시각화해보기\n",
        "\n",
        "이제 plot_pairs 함수를 이용해 2차원 공간에 비슷한 단어들끼리 클러스터링을 형성하고 있는지 확인해서 임베딩이란 개념을 확실히 이해하고 넘어가보자. (여자, 남자)나 (형용사, 비교급) 등 공통적인 기준에 따라 묶을 수 있는 단어들을 plot_pair 함수로 시각화하면 임베딩이 어떻게 됐는지 알 수 있을 것이다.\n"
      ]
    },
    {
      "cell_type": "code",
      "execution_count": 15,
      "id": "13142925",
      "metadata": {
        "id": "13142925",
        "colab": {
          "base_uri": "https://localhost:8080/",
          "height": 430
        },
        "outputId": "d708cd58-7ff5-4bb6-ecf7-2987a8117253"
      },
      "outputs": [
        {
          "output_type": "display_data",
          "data": {
            "text/plain": [
              "<Figure size 640x480 with 1 Axes>"
            ],
            "image/png": "[encoded data removed]"
          },
          "metadata": {}
        }
      ],
      "source": [
        "words = [\"man\", \"woman\", \"king\", \"queen\", \"uncle\", \"aunt\", \"nephew\", \"niece\", \"brother\", \"sister\", \"sir\", \"madam\"]\n",
        "# 여성 그리고 남성에 따라\n",
        "\n",
        "# glove에 포함된 단어들 중 위와 같은 ‘words’란 단어 조합이 어떻게 2차원 임베딩 공간에 존재하는지 알고 싶다면\n",
        "# plot_pair 함수를 활용하면 된다.\n",
        "\n",
        "plot_pairs(words, glove, svd)\n",
        "\n",
        "# 시각적으로 어떻게 나타나는지 더 알고 싶다면 아래의 코드도 실행해보면 좋다.\n",
        "words_2 =[\"short\",\"shorter\",\"strong\",\"stronger\",\"good\",\"better\"] # 형용사와 비교급\n",
        "plot_pairs (words_2, glove, svd)\n",
        "\n",
        "words_3 =[\"mitochondria\",\"cell\",\"powerhouse\",\"town\"]\n",
        "plot_pairs (words_3, glove, svd)"
      ]
    },
    {
      "cell_type": "markdown",
      "id": "120af511",
      "metadata": {
        "id": "120af511"
      },
      "source": [
        "\n",
        "\n",
        "### 6. 유추 문제에 임베딩 적용하기\n",
        "\n",
        "마지막으로 ‘**a와 b의 관계는 c와 d의 관계와 같다**’에서 d를 임베딩 행렬로 구하는 방법을 생각해보면서 이번 실습을 마무리하자. a, b, c에 오는 단어를 안다는 가정하에 d에 어떤 단어가 오게 될지 유추해보는 과정을 실습해볼 것이다. d의 단어 벡터(임베딩된 벡터)를 알아내면 그 벡터에 대응하는 단어를 glove에서 찾는 것이 가능하다. 그 벡터는 ‘c+(b-a)’로 나타낼 수 있다. 이 벡터를 query란 이름으로 정의한 후 glove.similar_by_vector(query)로 query와 유사한 단어를 얻을 수 있다."
      ]
    },
    {
      "cell_type": "code",
      "execution_count": 16,
      "id": "0369c28a",
      "metadata": {
        "id": "0369c28a",
        "colab": {
          "base_uri": "https://localhost:8080/"
        },
        "outputId": "e9b74986-ea0f-4d4e-8447-6e7235aa9c36"
      },
      "outputs": [
        {
          "output_type": "execute_result",
          "data": {
            "text/plain": [
              "[('dog', 0.7938328981399536),\n",
              " ('cat', 0.7667654752731323),\n",
              " ('kitten', 0.7179057598114014),\n",
              " ('monkey', 0.7019667625427246),\n",
              " ('killer', 0.6938791871070862),\n",
              " ('mad', 0.691328763961792),\n",
              " ('dogs', 0.6863180994987488),\n",
              " ('monster', 0.6793158650398254),\n",
              " ('woman', 0.6672138571739197),\n",
              " ('naked', 0.666832447052002)]"
            ]
          },
          "metadata": {},
          "execution_count": 16
        }
      ],
      "source": [
        "query = glove[\"kitten\"] - glove[\"puppy\"] + glove[\"dog\"]\n",
        "glove.similar_by_vector(query)\n",
        "\n",
        "# a - b = c - d\n",
        "# d = c + b - a"
      ]
    },
    {
      "cell_type": "markdown",
      "id": "0e074724",
      "metadata": {
        "id": "0e074724"
      },
      "source": [
        "위 코드를 참고해 \"france\" is to \"paris\" as \"germany\" is to “?” 라는 예문에서 물음표에 들어갈 단어를 출력할 수 있는 코드를 작성해보자.\n"
      ]
    },
    {
      "cell_type": "code",
      "execution_count": 17,
      "id": "49a50e18",
      "metadata": {
        "id": "49a50e18",
        "colab": {
          "base_uri": "https://localhost:8080/"
        },
        "outputId": "541caa2d-1703-4e57-b0a1-3477be9a0537"
      },
      "outputs": [
        {
          "output_type": "execute_result",
          "data": {
            "text/plain": [
              "[('berlin', 0.9181488752365112),\n",
              " ('frankfurt', 0.8184096217155457),\n",
              " ('munich', 0.8120746612548828),\n",
              " ('vienna', 0.8101339936256409),\n",
              " ('germany', 0.804895281791687),\n",
              " ('hamburg', 0.7974335551261902),\n",
              " ('stockholm', 0.7717639207839966),\n",
              " ('warsaw', 0.7688193917274475),\n",
              " ('budapest', 0.7663007974624634),\n",
              " ('prague', 0.7654389142990112)]"
            ]
          },
          "metadata": {},
          "execution_count": 17
        }
      ],
      "source": [
        "# 여기에 코드 작성\n",
        "query = glove[\"germany\"] - glove[\"france\"] + glove[\"paris\"]\n",
        "glove.similar_by_vector(query)"
      ]
    },
    {
      "cell_type": "markdown",
      "id": "71e4c668",
      "metadata": {
        "id": "71e4c668"
      },
      "source": [
        "gensim 라이브러리에는 위처럼 벡터를 지정해서 단어를 찾는 방법 말고 더 간편한 방법도 있다. 바로 ‘most_similar_cosmul()’를 활용한 것이다. 차이점은 벡터를 계산할 때 앞에 (+) 부호가 붙었던 단어를 positive, (-) 부호가 붙었던 단어를 ‘negative’라 생각하고 코드에 입력해야 한다. 정리하자면, 만약 ‘positive’와 ‘negative’한 관계가 같이 존재하는 문장이라면 여기서 더 나아간 ‘most_similar_cosmul()’ 함수를 사용할 수 있다.\n",
        "\n",
        "예를 들어 기존에는 glove[\"kitten\"] - glove[\"puppy\"] + glove[\"dog\"]란 벡터를 생성한 후 물음표에 올 단어를 구했다면, 방금 배운 함수를 이용해 코드 한 줄로 쉽게 물음표 안에 들어갈 말을 구할 수 있다."
      ]
    },
    {
      "cell_type": "code",
      "execution_count": 21,
      "id": "269bb25b",
      "metadata": {
        "id": "269bb25b",
        "colab": {
          "base_uri": "https://localhost:8080/"
        },
        "outputId": "5ebe23c1-309f-47cf-b452-9cea75883a64"
      },
      "outputs": [
        {
          "output_type": "execute_result",
          "data": {
            "text/plain": [
              "[('cat', 0.8933362364768982),\n",
              " ('monkey', 0.8776191473007202),\n",
              " ('killer', 0.866765022277832),\n",
              " ('bikini', 0.8635241389274597),\n",
              " ('mad', 0.8598142266273499),\n",
              " ('naked', 0.8578193783760071),\n",
              " ('monster', 0.855743944644928),\n",
              " ('teen', 0.8467973470687866),\n",
              " ('boy', 0.8466870188713074),\n",
              " ('woman', 0.8466081619262695)]"
            ]
          },
          "metadata": {},
          "execution_count": 21
        }
      ],
      "source": [
        "#내장 함수를 이용하여 도출하기 : positive에는 +, negative에는 - 부호를 가진 요소를 넣어준다\n",
        "glove.most_similar_cosmul(positive=['kitten', 'dog'], negative=['puppy'])"
      ]
    },
    {
      "cell_type": "markdown",
      "id": "d345557a",
      "metadata": {
        "id": "d345557a"
      },
      "source": [
        "\"france\" is to \"paris\" as \"germany\" is to “?” 에도 적용해보자."
      ]
    },
    {
      "cell_type": "code",
      "execution_count": 22,
      "id": "4d57d9d3",
      "metadata": {
        "id": "4d57d9d3",
        "colab": {
          "base_uri": "https://localhost:8080/"
        },
        "outputId": "0e75e87a-4cca-4e7d-8fa4-842fc8c31cf7"
      },
      "outputs": [
        {
          "output_type": "execute_result",
          "data": {
            "text/plain": [
              "[('berlin', 0.9875683188438416),\n",
              " ('frankfurt', 0.9353715777397156),\n",
              " ('vienna', 0.9297984838485718),\n",
              " ('munich', 0.9265624284744263),\n",
              " ('hamburg', 0.9223735332489014),\n",
              " ('stockholm', 0.9121066927909851),\n",
              " ('budapest', 0.9109797477722168),\n",
              " ('prague', 0.9057857394218445),\n",
              " ('warsaw', 0.9043149948120117),\n",
              " ('amsterdam', 0.8915085196495056)]"
            ]
          },
          "metadata": {},
          "execution_count": 22
        }
      ],
      "source": [
        "# 여기에 코드 작성\n",
        "glove.most_similar_cosmul(positive=['germany', 'paris'], negative=['france'])"
      ]
    },
    {
      "cell_type": "markdown",
      "id": "ec51ee38",
      "metadata": {
        "id": "ec51ee38"
      },
      "source": [
        "\n",
        "\n",
        "### 배운 내용 되돌아보기\n",
        "\n",
        "□ 임베딩이 되어있는 데이터셋 GloVe 내의 데이터가 클러스터링을 잘 형성하고 있는지 확인하기 위해 .most_similar() 함수로 유사한 단어를 찾아보았다.\n",
        "\n",
        "□ 특정 기준에 따라(e.g. 형용사와 비교급) 단어들이 어떤 위치 관계를 가지며 매핑되어 있는지 확인하기 위해 plot_pairs란 함수를 만들고 이를 시각화에 이용했다.\n",
        "\n",
        "□ plot_pairs 함수로 특정 기준에 따라 나눈 단어가 어떻게 2차원 공간에 매핑되어 있는지 눈으로 확인했다.\n",
        "\n",
        "□ 마지막으로 문장을 이루고 있는 단어가 갖는 단어 벡터로 빈칸에 들어갈 단어를 유추할 수 있음을 확인하였다.\n",
        "\n",
        "참고문헌\n",
        "<2. Lexical analysis>, 《Python 공식 사이트》, <https://docs.python.org/3/reference/lexical_analysis.html#string-and-bytes-literals>"
      ]
    }
  ],
  "metadata": {
    "kernelspec": {
      "display_name": "Python 3 (ipykernel)",
      "language": "python",
      "name": "python3"
    },
    "language_info": {
      "codemirror_mode": {
        "name": "ipython",
        "version": 3
      },
      "file_extension": ".py",
      "mimetype": "text/x-python",
      "name": "python",
      "nbconvert_exporter": "python",
      "pygments_lexer": "ipython3",
      "version": "3.8.16"
    },
    "vscode": {
      "interpreter": {
        "hash": "9dc15a446d7c86b1b4ac97a4801574cae95b2ed1fc499d665cc0d780e3cbbdea"
      }
    },
    "colab": {
      "provenance": [],
      "include_colab_link": true
    }
  },
  "nbformat": 4,
  "nbformat_minor": 5
}